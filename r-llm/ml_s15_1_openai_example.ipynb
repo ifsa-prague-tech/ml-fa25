{
 "cells": [
  {
   "cell_type": "markdown",
   "id": "61016193-a74e-44a6-8f96-771b6ac1f4ad",
   "metadata": {},
   "source": [
    "# OpenAI models\n",
    "#### Examples of using OpenAI API calls, on NLP tasks"
   ]
  },
  {
   "cell_type": "code",
   "execution_count": 1,
   "id": "4dc9f931-6825-44b4-a557-5648aee57cf7",
   "metadata": {},
   "outputs": [],
   "source": [
    "#!openai migrate"
   ]
  },
  {
   "cell_type": "code",
   "execution_count": 2,
   "id": "86a4873e-e730-4308-a0d7-fce9a2f7ddd3",
   "metadata": {
    "tags": []
   },
   "outputs": [],
   "source": [
    "import openai"
   ]
  },
  {
   "cell_type": "code",
   "execution_count": 3,
   "id": "eb9dd28b-da67-470c-83c9-14063d545343",
   "metadata": {
    "tags": []
   },
   "outputs": [],
   "source": [
    "OPENAI_API_KEY = \"\"\n",
    "OPENAI_API_ORGANIZATION = None"
   ]
  },
  {
   "cell_type": "code",
   "execution_count": 19,
   "id": "fe9cbcf5-8aa4-47f6-887b-2a3431a3500b",
   "metadata": {
    "tags": []
   },
   "outputs": [],
   "source": [
    "def generate_answers(user_text):\n",
    "    \"\"\"\n",
    "    Use of OpenAI[s Completions API\n",
    "    \"\"\"\n",
    "\n",
    "    openai.api_key = OPENAI_API_KEY\n",
    "    openai.organization = OPENAI_API_ORGANIZATION\n",
    "\n",
    "    if OPENAI_API_KEY:\n",
    "\n",
    "        messages = [{\"role\": \"system\", \n",
    "                     \"content\": \"You are Chef, a chatbot that suggests recipes, based on ingredients provided by the User.\"},\n",
    "                    {\"role\": \"user\", \n",
    "                     \"content\": f\"{user_text}\"},\n",
    "                   ]\n",
    "\n",
    "        # Call to the API\n",
    "        response = openai.chat.completions.create(\n",
    "            model=\"gpt-4.1-mini\",\n",
    "            messages=messages,\n",
    "            temperature=0.0,\n",
    "        )\n",
    "        \n",
    "        assistant_message = response.choices[0].message.content\n",
    "\n",
    "\n",
    "    return assistant_message\n"
   ]
  },
  {
   "cell_type": "code",
   "execution_count": null,
   "id": "bd9d6010-fad2-42f4-a7c0-dbc7ff647e9d",
   "metadata": {
    "tags": []
   },
   "outputs": [],
   "source": [
    "answer = generate_answers(f\"\"\"\n",
    "Mango, lemon, chilli\n",
    "\"\"\")\n",
    "\n",
    "print(answer)"
   ]
  },
  {
   "cell_type": "code",
   "execution_count": null,
   "id": "8b726cbf-bf10-4659-a48f-488a45c54d35",
   "metadata": {
    "tags": []
   },
   "outputs": [],
   "source": []
  }
 ],
 "metadata": {
  "kernelspec": {
   "display_name": "Python 3 (ipykernel)",
   "language": "python",
   "name": "python3"
  },
  "language_info": {
   "codemirror_mode": {
    "name": "ipython",
    "version": 3
   },
   "file_extension": ".py",
   "mimetype": "text/x-python",
   "name": "python",
   "nbconvert_exporter": "python",
   "pygments_lexer": "ipython3",
   "version": "3.10.16"
  }
 },
 "nbformat": 4,
 "nbformat_minor": 5
}
